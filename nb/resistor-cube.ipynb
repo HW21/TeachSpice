{
 "cells": [
  {
   "cell_type": "markdown",
   "metadata": {},
   "source": [
    "# Resistor Cube Solutions\n",
    "\n",
    "Quick symbolic and numeric solutions to the popular resistor-cube problem. "
   ]
  },
  {
   "cell_type": "code",
   "execution_count": 28,
   "metadata": {},
   "outputs": [],
   "source": [
    "import sympy as sp\n",
    "import numpy as np"
   ]
  },
  {
   "cell_type": "code",
   "execution_count": 29,
   "metadata": {},
   "outputs": [],
   "source": [
    "IR,v1,v2,v3,v4,v5,v6,v7 = sp.symbols('IR,v1,v2,v3,v4,v5,v6,v7')"
   ]
  },
  {
   "cell_type": "markdown",
   "metadata": {},
   "source": [
    "## Circuit Matrix\n",
    "\n",
    "After a half-page or so of algebra, we can derive the system of seven node-equations. "
   ]
  },
  {
   "cell_type": "markdown",
   "metadata": {},
   "source": [
    "$$\\displaystyle \\left[\\begin{matrix}3 & -1 & -1 & -1 & 0 & 0 & 0\\\\-1 & 3 & 0 & 0 & -1 & 0 & -1\\\\-1 & 0 & 3 & 0 & -1 & -1 & 0\\\\-1 & 0 & 0 & 3 & 0 & -1 & -1\\\\0 & -1 & -1 & 0 & 3 & 0 & 0\\\\0 & 0 & -1 & -1 & 0 & 3 & 0\\\\0 & -1 & 0 & -1 & 0 & 0 & 3\\end{matrix}\\right] \n",
    "\\left[\\begin{matrix}V1\\\\V2\\\\V3\\\\V4\\\\V5\\\\V6\\\\V7\\end{matrix}\\right]\n",
    "= \n",
    "\\left[\\begin{matrix}IR\\\\0\\\\0\\\\0\\\\0\\\\0\\\\0\\end{matrix}\\right]$$"
   ]
  },
  {
   "cell_type": "markdown",
   "metadata": {},
   "source": [
    "We'll represent these in `sympy.Matrix` objects `A` and `b`:"
   ]
  },
  {
   "cell_type": "code",
   "execution_count": 37,
   "metadata": {},
   "outputs": [
    {
     "data": {
      "text/latex": [
       "$\\displaystyle \\left[\\begin{matrix}3 & -1 & -1 & -1 & 0 & 0 & 0\\\\-1 & 3 & 0 & 0 & -1 & 0 & -1\\\\-1 & 0 & 3 & 0 & -1 & -1 & 0\\\\-1 & 0 & 0 & 3 & 0 & -1 & -1\\\\0 & -1 & -1 & 0 & 3 & 0 & 0\\\\0 & 0 & -1 & -1 & 0 & 3 & 0\\\\0 & -1 & 0 & -1 & 0 & 0 & 3\\end{matrix}\\right]$"
      ],
      "text/plain": [
       "Matrix([\n",
       "[ 3, -1, -1, -1,  0,  0,  0],\n",
       "[-1,  3,  0,  0, -1,  0, -1],\n",
       "[-1,  0,  3,  0, -1, -1,  0],\n",
       "[-1,  0,  0,  3,  0, -1, -1],\n",
       "[ 0, -1, -1,  0,  3,  0,  0],\n",
       "[ 0,  0, -1, -1,  0,  3,  0],\n",
       "[ 0, -1,  0, -1,  0,  0,  3]])"
      ]
     },
     "execution_count": 37,
     "metadata": {},
     "output_type": "execute_result"
    }
   ],
   "source": [
    "lhs = np.array([\n",
    "          [ 3,-1,-1,-1, 0, 0, 0],\n",
    "          [-1, 3, 0, 0,-1, 0,-1],\n",
    "          [-1, 0, 3, 0,-1,-1, 0],\n",
    "          [-1, 0, 0, 3, 0,-1,-1],\n",
    "          [ 0,-1,-1, 0, 3, 0, 0],\n",
    "          [ 0, 0,-1,-1, 0, 3, 0],\n",
    "          [ 0,-1, 0,-1, 0, 0, 3]\n",
    "    ],)\n",
    "A = sp.Matrix(lhs)\n",
    "A"
   ]
  },
  {
   "cell_type": "code",
   "execution_count": 38,
   "metadata": {},
   "outputs": [
    {
     "data": {
      "text/latex": [
       "$\\displaystyle \\left[\\begin{matrix}IR\\\\0\\\\0\\\\0\\\\0\\\\0\\\\0\\end{matrix}\\right]$"
      ],
      "text/plain": [
       "Matrix([\n",
       "[IR],\n",
       "[ 0],\n",
       "[ 0],\n",
       "[ 0],\n",
       "[ 0],\n",
       "[ 0],\n",
       "[ 0]])"
      ]
     },
     "execution_count": 38,
     "metadata": {},
     "output_type": "execute_result"
    }
   ],
   "source": [
    "b = sp.Matrix([[IR],[0],[0],[0],[0],[0],[0]])\n",
    "b"
   ]
  },
  {
   "cell_type": "markdown",
   "metadata": {},
   "source": [
    "## Symbolic Solution\n",
    "\n",
    "Most statements of the resistor-cube problem ask for the resistance between diagonal corners of the cube, relative to the unit-resistance per edge.  In other words, the desired quantity is: \n",
    "\n",
    "```\n",
    "V(1) / I\n",
    "```\n",
    "\n",
    "Conveniently the `sympy.linsolve` solver will give us just this - along with all of the other node voltages:"
   ]
  },
  {
   "cell_type": "code",
   "execution_count": 32,
   "metadata": {},
   "outputs": [
    {
     "data": {
      "text/latex": [
       "$\\displaystyle \\left\\{\\left( \\frac{5 IR}{6}, \\  \\frac{IR}{2}, \\  \\frac{IR}{2}, \\  \\frac{IR}{2}, \\  \\frac{IR}{3}, \\  \\frac{IR}{3}, \\  \\frac{IR}{3}\\right)\\right\\}$"
      ],
      "text/plain": [
       "{(5*IR/6, IR/2, IR/2, IR/2, IR/3, IR/3, IR/3)}"
      ]
     },
     "execution_count": 32,
     "metadata": {},
     "output_type": "execute_result"
    }
   ],
   "source": [
    "sp.linsolve((A,b),(v1,v2,v3,v4,v5,v6,v7))"
   ]
  },
  {
   "cell_type": "markdown",
   "metadata": {},
   "source": [
    "These results square with our intuitive expectations. "
   ]
  },
  {
   "cell_type": "markdown",
   "metadata": {},
   "source": [
    "## Numeric Solution\n",
    "\n",
    "Most \"real\" circuit-simulations are not amenable to symbolic-solvers such as `sympy`, for a slew of reasons.  \n",
    "\n",
    "* They are often non-linear and piece-wise defined. \n",
    "* They have (many) more nodes than numeric solvers can efficiently handle. \n",
    "* Even if we generated symbolic results for complicated circuits, we'd often not know what to do with them - other than converting into numeric answers. \n",
    "\n",
    "Instead nearly all practical circuit simulation uses numerical solutions.  We'll just have to choose a numeric value for our single parameter `IR` - say, 1.0V.  The resistor-cube is nice enough to be completely linear, and allows us to use a linear solver such as `numpy.linalg.solve`:"
   ]
  },
  {
   "cell_type": "code",
   "execution_count": 33,
   "metadata": {},
   "outputs": [
    {
     "data": {
      "text/plain": [
       "array([0.83333333, 0.5       , 0.5       , 0.5       , 0.33333333,\n",
       "       0.33333333, 0.33333333])"
      ]
     },
     "execution_count": 33,
     "metadata": {},
     "output_type": "execute_result"
    }
   ],
   "source": [
    "rhs = np.transpose(np.array([1,0,0,0,0,0,0]))\n",
    "np.linalg.solve(lhs, rhs)"
   ]
  },
  {
   "cell_type": "markdown",
   "metadata": {},
   "source": [
    "Again this checks out, both with our intuitive expectations and the earlier symbolic results. "
   ]
  },
  {
   "cell_type": "markdown",
   "metadata": {},
   "source": [
    "## Intuitive Solution\n",
    "\n",
    "The resistor-cube is usually offered as a brain-teaser of sorts, whether as a job interview problem or just for shits & grins.  I have never seen anyone (but me!) work through it analytically as we have here.  \n",
    "\n",
    "Instead, a typical thought-process looks something like so:\n",
    "\n",
    "* We can tell from looking at this circuit that there are a few symmetries between similar-looking nodes.  This may become particularly clear when we \"flatten\" the cube into a 2D visual form. \n",
    "* From inspection (and our deep well of experience), we can discern that `V(2)=V(3)=V(4)`.  In other words, `I2=I3=I4 = I/3`.\n",
    "* Similarly we can tell that `V(5)=V(6)=V(7)`, and that `I5=I6=I7 = I/3`. \n",
    "* With those two realizations in hand, we can further discern that each of the six middle-row resistors has *half* the current of their top and bottom-row counterparts, or `(I/3)/2 = I/6`. \n",
    "* Walking through any KVL loop including a top, middle, and bottom row resistor, we find that their voltages are `IR/3`, `IR/6`, and `IR/3`, making a total of `5*IR/6`.  The overall resistance `V(1)/I` is therefore `5*R/6`.\n",
    "\n",
    "Although not usually asked, we can use the same insights to notice that the values of `V(5)=V(6)=V(7) = IR/3`, and that `V(2)=V(3)=V(4)` are `IR/3+IR/6 = IR/2`.  All checks out with the symbolic and numeric solutions. "
   ]
  },
  {
   "cell_type": "code",
   "execution_count": null,
   "metadata": {},
   "outputs": [],
   "source": []
  }
 ],
 "metadata": {
  "kernelspec": {
   "display_name": "Python 3",
   "language": "python",
   "name": "python3"
  },
  "language_info": {
   "codemirror_mode": {
    "name": "ipython",
    "version": 3
   },
   "file_extension": ".py",
   "mimetype": "text/x-python",
   "name": "python",
   "nbconvert_exporter": "python",
   "pygments_lexer": "ipython3",
   "version": "3.7.4"
  }
 },
 "nbformat": 4,
 "nbformat_minor": 2
}
